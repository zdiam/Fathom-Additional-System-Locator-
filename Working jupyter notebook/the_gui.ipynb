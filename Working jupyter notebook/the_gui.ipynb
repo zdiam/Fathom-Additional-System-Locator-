{
 "cells": [
  {
   "cell_type": "code",
   "execution_count": 29,
   "metadata": {},
   "outputs": [
    {
     "name": "stdout",
     "output_type": "stream",
     "text": [
      "C:/Users/Zach/the big python attempt/Book12.csv\n"
     ]
    }
   ],
   "source": [
    "import tkinter as tk\n",
    "from tkinter import *\n",
    "from tkinter.filedialog import askopenfilename\n",
    "import pandas as pd\n",
    "\n",
    "\n",
    "\n",
    "\n",
    "def import_csv_data():\n",
    "    global j\n",
    "    csv_file_path = askopenfilename()\n",
    "    print(csv_file_path)\n",
    "    j.set(csv_file_path)\n",
    "    df = pd.read_csv(csv_file_path)\n",
    "\n",
    "root = tk.Tk()\n",
    "root.geometry('450x400')\n",
    "root.title('Enter File')\n",
    "tk.Label(root, text='File Path').grid(row=0, column=0)\n",
    "j = tk.StringVar()\n",
    "\n",
    "entry = tk.Entry(root, textvariable=j).grid(row=0, column=1)\n",
    "tk.Button(root, text='Browse Data Set',command=import_csv_data).grid(row=1, column=0)\n",
    "tk.Button(root, text='Input GPM and Maximum Velocity',command=root.destroy).grid(row=1, column=1)\n",
    "root.mainloop()\n",
    "\n",
    "\n",
    "root = Tk()\n",
    "root.geometry('450x450')\n",
    "root.title('Fathom Additional System Advisor')\n",
    "\n",
    "def info():\n",
    "    list_of_lists = [[f'{gpm.get()}',],\n",
    "                    [f'{velocity.get()}',]],\n",
    "\n",
    "\n",
    "entry1_text = Label(root, text = 'Enter Additional GPM')\n",
    "entry2_text = Label(root, text = 'Enter Maximum Velocity Allowed (ft/s)')\n",
    "\n",
    "entry1_text.place(x = 15, y = 30)\n",
    "entry2_text.place(x = 15, y = 90)\n",
    "\n",
    "gpm = StringVar()\n",
    "velocity = StringVar()\n",
    "\n",
    "gpm_entry = Entry(root, textvariable = gpm, width = \"15\")\n",
    "velocity_entry = Entry(root, textvariable = velocity, width = \"15\")\n",
    "\n",
    "gpm_entry.place(x = 15, y = 60)\n",
    "velocity_entry.place(x = 15, y = 120)\n",
    "\n",
    "\n",
    "register = Button(root,text = \"Run\", width = \"10\", height = \"2\", command=root.destroy, bg = \"lightgreen\")\n",
    "register.place(x = 15, y = 240)\n",
    "\n",
    "root.mainloop()\n"
   ]
  },
  {
   "cell_type": "code",
   "execution_count": 30,
   "metadata": {},
   "outputs": [
    {
     "data": {
      "text/plain": [
       "'670'"
      ]
     },
     "execution_count": 30,
     "metadata": {},
     "output_type": "execute_result"
    }
   ],
   "source": [
    "gpm.get()\n"
   ]
  },
  {
   "cell_type": "code",
   "execution_count": 31,
   "metadata": {},
   "outputs": [
    {
     "data": {
      "text/plain": [
       "'7.5'"
      ]
     },
     "execution_count": 31,
     "metadata": {},
     "output_type": "execute_result"
    }
   ],
   "source": [
    "velocity.get()"
   ]
  },
  {
   "cell_type": "code",
   "execution_count": 32,
   "metadata": {},
   "outputs": [
    {
     "data": {
      "text/plain": [
       "'C:/Users/Zach/the big python attempt/Book12.csv'"
      ]
     },
     "execution_count": 32,
     "metadata": {},
     "output_type": "execute_result"
    }
   ],
   "source": [
    "j.get()"
   ]
  },
  {
   "cell_type": "code",
   "execution_count": 33,
   "metadata": {},
   "outputs": [],
   "source": [
    "filename = j.get()"
   ]
  },
  {
   "cell_type": "code",
   "execution_count": 34,
   "metadata": {},
   "outputs": [
    {
     "data": {
      "text/plain": [
       "'C:/Users/Zach/the big python attempt/Book12.csv'"
      ]
     },
     "execution_count": 34,
     "metadata": {},
     "output_type": "execute_result"
    }
   ],
   "source": [
    "filename"
   ]
  }
 ],
 "metadata": {
  "kernelspec": {
   "display_name": "Python 3.9.13 ('base')",
   "language": "python",
   "name": "python3"
  },
  "language_info": {
   "codemirror_mode": {
    "name": "ipython",
    "version": 3
   },
   "file_extension": ".py",
   "mimetype": "text/x-python",
   "name": "python",
   "nbconvert_exporter": "python",
   "pygments_lexer": "ipython3",
   "version": "3.9.13"
  },
  "orig_nbformat": 4,
  "vscode": {
   "interpreter": {
    "hash": "372109190dea5f63f1f14f4c7b56cd6f3d2c0f9869deae109884d417dc836e63"
   }
  }
 },
 "nbformat": 4,
 "nbformat_minor": 2
}
